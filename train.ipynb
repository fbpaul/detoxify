{
 "cells": [
  {
   "cell_type": "code",
   "execution_count": 3,
   "id": "bcca3e20-402e-46b6-8807-8a54dc5ad2f7",
   "metadata": {},
   "outputs": [
    {
     "name": "stdout",
     "output_type": "stream",
     "text": [
      "\u001b[33mWARNING: Retrying (Retry(total=4, connect=None, read=None, redirect=None, status=None)) after connection broken by 'NewConnectionError('<pip._vendor.urllib3.connection.HTTPSConnection object at 0x7f0fdcf9bdd0>: Failed to establish a new connection: [Errno -3] Temporary failure in name resolution')': /simple/pytorch-lightning/\u001b[0m\u001b[33m\n",
      "\u001b[0m\u001b[33mWARNING: Retrying (Retry(total=3, connect=None, read=None, redirect=None, status=None)) after connection broken by 'NewConnectionError('<pip._vendor.urllib3.connection.HTTPSConnection object at 0x7f0fdcf68bd0>: Failed to establish a new connection: [Errno -3] Temporary failure in name resolution')': /simple/pytorch-lightning/\u001b[0m\u001b[33m\n",
      "\u001b[0m\u001b[33mWARNING: Retrying (Retry(total=2, connect=None, read=None, redirect=None, status=None)) after connection broken by 'NewConnectionError('<pip._vendor.urllib3.connection.HTTPSConnection object at 0x7f0fdcf8fe10>: Failed to establish a new connection: [Errno -3] Temporary failure in name resolution')': /simple/pytorch-lightning/\u001b[0m\u001b[33m\n",
      "\u001b[0m^C\n"
     ]
    }
   ],
   "source": [
    "!pip install pytorch-lightning"
   ]
  },
  {
   "cell_type": "code",
   "execution_count": 6,
   "id": "d6d158b9-967a-4367-8178-30285114227f",
   "metadata": {},
   "outputs": [
    {
     "name": "stdout",
     "output_type": "stream",
     "text": [
      "\u001b[33mWARNING: Retrying (Retry(total=4, connect=None, read=None, redirect=None, status=None)) after connection broken by 'NewConnectionError('<pip._vendor.urllib3.connection.HTTPSConnection object at 0x7f058ef84ed0>: Failed to establish a new connection: [Errno -3] Temporary failure in name resolution')': /simple/toxigen/\u001b[0m\u001b[33m\n",
      "\u001b[0m^C\n"
     ]
    }
   ],
   "source": [
    "!pip install toxigen"
   ]
  },
  {
   "cell_type": "code",
   "execution_count": 1,
   "id": "c0a6bb89-d0b6-4dc0-86d4-c81fd9130f70",
   "metadata": {},
   "outputs": [
    {
     "name": "stdout",
     "output_type": "stream",
     "text": [
      "Traceback (most recent call last):\n",
      "  File \"/usr/src/app/detoxify/train.py\", line 9, in <module>\n",
      "    import pytorch_lightning as pl\n",
      "ModuleNotFoundError: No module named 'pytorch_lightning'\n"
     ]
    }
   ],
   "source": [
    "!python train.py --config configs/Toxic_comment_classification_ModernBERT.json"
   ]
  },
  {
   "cell_type": "code",
   "execution_count": null,
   "id": "e0f9bbea-3344-4490-9241-6aa42e47c8a7",
   "metadata": {},
   "outputs": [],
   "source": []
  }
 ],
 "metadata": {
  "kernelspec": {
   "display_name": "Python 3 (ipykernel)",
   "language": "python",
   "name": "python3"
  },
  "language_info": {
   "codemirror_mode": {
    "name": "ipython",
    "version": 3
   },
   "file_extension": ".py",
   "mimetype": "text/x-python",
   "name": "python",
   "nbconvert_exporter": "python",
   "pygments_lexer": "ipython3",
   "version": "3.11.9"
  }
 },
 "nbformat": 4,
 "nbformat_minor": 5
}
